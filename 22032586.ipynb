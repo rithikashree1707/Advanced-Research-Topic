{
 "cells": [
  {
   "cell_type": "markdown",
   "metadata": {
    "id": "6lpreKz_YWD5"
   },
   "source": [
    "# Traditional Models"
   ]
  },
  {
   "cell_type": "markdown",
   "metadata": {
    "id": "cCnj9yk9XGhv"
   },
   "source": [
    "### Install All Required Libraries"
   ]
  },
  {
   "cell_type": "code",
   "execution_count": 1,
   "metadata": {
    "id": "CIst-oZEBkp8"
   },
   "outputs": [
    {
     "name": "stdout",
     "output_type": "stream",
     "text": [
      "Found existing installation: numpy 2.2.4\n",
      "Uninstalling numpy-2.2.4:\n",
      "  Successfully uninstalled numpy-2.2.4\n",
      "Found existing installation: scipy 1.15.2\n",
      "Uninstalling scipy-1.15.2:\n",
      "  Successfully uninstalled scipy-1.15.2\n",
      "Found existing installation: pandas 2.2.3\n",
      "Uninstalling pandas-2.2.3:\n",
      "  Successfully uninstalled pandas-2.2.3\n",
      "Found existing installation: statsmodels 0.14.4\n",
      "Uninstalling statsmodels-0.14.4:\n",
      "  Successfully uninstalled statsmodels-0.14.4\n"
     ]
    }
   ],
   "source": [
    "!pip uninstall -y numpy scipy pandas statsmodels"
   ]
  },
  {
   "cell_type": "code",
   "execution_count": 2,
   "metadata": {
    "id": "bfABfRlMBSSf"
   },
   "outputs": [
    {
     "name": "stdout",
     "output_type": "stream",
     "text": [
      "Collecting numpy==1.24.4\n",
      "  Using cached numpy-1.24.4.tar.gz (10.9 MB)\n",
      "  Installing build dependencies ... \u001b[?25ldone\n",
      "\u001b[?25h  Getting requirements to build wheel ... \u001b[?25lerror\n",
      "  \u001b[1;31merror\u001b[0m: \u001b[1msubprocess-exited-with-error\u001b[0m\n",
      "  \n",
      "  \u001b[31m×\u001b[0m \u001b[32mGetting requirements to build wheel\u001b[0m did not run successfully.\n",
      "  \u001b[31m│\u001b[0m exit code: \u001b[1;36m1\u001b[0m\n",
      "  \u001b[31m╰─>\u001b[0m \u001b[31m[33 lines of output]\u001b[0m\n",
      "  \u001b[31m   \u001b[0m Traceback (most recent call last):\n",
      "  \u001b[31m   \u001b[0m   File \"/opt/anaconda3/lib/python3.12/site-packages/pip/_vendor/pyproject_hooks/_in_process/_in_process.py\", line 353, in <module>\n",
      "  \u001b[31m   \u001b[0m     main()\n",
      "  \u001b[31m   \u001b[0m   File \"/opt/anaconda3/lib/python3.12/site-packages/pip/_vendor/pyproject_hooks/_in_process/_in_process.py\", line 335, in main\n",
      "  \u001b[31m   \u001b[0m     json_out['return_val'] = hook(**hook_input['kwargs'])\n",
      "  \u001b[31m   \u001b[0m                              ^^^^^^^^^^^^^^^^^^^^^^^^^^^^\n",
      "  \u001b[31m   \u001b[0m   File \"/opt/anaconda3/lib/python3.12/site-packages/pip/_vendor/pyproject_hooks/_in_process/_in_process.py\", line 112, in get_requires_for_build_wheel\n",
      "  \u001b[31m   \u001b[0m     backend = _build_backend()\n",
      "  \u001b[31m   \u001b[0m               ^^^^^^^^^^^^^^^^\n",
      "  \u001b[31m   \u001b[0m   File \"/opt/anaconda3/lib/python3.12/site-packages/pip/_vendor/pyproject_hooks/_in_process/_in_process.py\", line 77, in _build_backend\n",
      "  \u001b[31m   \u001b[0m     obj = import_module(mod_path)\n",
      "  \u001b[31m   \u001b[0m           ^^^^^^^^^^^^^^^^^^^^^^^\n",
      "  \u001b[31m   \u001b[0m   File \"/opt/anaconda3/lib/python3.12/importlib/__init__.py\", line 90, in import_module\n",
      "  \u001b[31m   \u001b[0m     return _bootstrap._gcd_import(name[level:], package, level)\n",
      "  \u001b[31m   \u001b[0m            ^^^^^^^^^^^^^^^^^^^^^^^^^^^^^^^^^^^^^^^^^^^^^^^^^^^^\n",
      "  \u001b[31m   \u001b[0m   File \"<frozen importlib._bootstrap>\", line 1387, in _gcd_import\n",
      "  \u001b[31m   \u001b[0m   File \"<frozen importlib._bootstrap>\", line 1360, in _find_and_load\n",
      "  \u001b[31m   \u001b[0m   File \"<frozen importlib._bootstrap>\", line 1310, in _find_and_load_unlocked\n",
      "  \u001b[31m   \u001b[0m   File \"<frozen importlib._bootstrap>\", line 488, in _call_with_frames_removed\n",
      "  \u001b[31m   \u001b[0m   File \"<frozen importlib._bootstrap>\", line 1387, in _gcd_import\n",
      "  \u001b[31m   \u001b[0m   File \"<frozen importlib._bootstrap>\", line 1360, in _find_and_load\n",
      "  \u001b[31m   \u001b[0m   File \"<frozen importlib._bootstrap>\", line 1331, in _find_and_load_unlocked\n",
      "  \u001b[31m   \u001b[0m   File \"<frozen importlib._bootstrap>\", line 935, in _load_unlocked\n",
      "  \u001b[31m   \u001b[0m   File \"<frozen importlib._bootstrap_external>\", line 995, in exec_module\n",
      "  \u001b[31m   \u001b[0m   File \"<frozen importlib._bootstrap>\", line 488, in _call_with_frames_removed\n",
      "  \u001b[31m   \u001b[0m   File \"/private/var/folders/ms/0sq7kkk54q1_5wr9f7c_jgkc0000gn/T/pip-build-env-xyrs0vbd/overlay/lib/python3.12/site-packages/setuptools/__init__.py\", line 16, in <module>\n",
      "  \u001b[31m   \u001b[0m     import setuptools.version\n",
      "  \u001b[31m   \u001b[0m   File \"/private/var/folders/ms/0sq7kkk54q1_5wr9f7c_jgkc0000gn/T/pip-build-env-xyrs0vbd/overlay/lib/python3.12/site-packages/setuptools/version.py\", line 1, in <module>\n",
      "  \u001b[31m   \u001b[0m     import pkg_resources\n",
      "  \u001b[31m   \u001b[0m   File \"/private/var/folders/ms/0sq7kkk54q1_5wr9f7c_jgkc0000gn/T/pip-build-env-xyrs0vbd/overlay/lib/python3.12/site-packages/pkg_resources/__init__.py\", line 2172, in <module>\n",
      "  \u001b[31m   \u001b[0m     register_finder(pkgutil.ImpImporter, find_on_path)\n",
      "  \u001b[31m   \u001b[0m                     ^^^^^^^^^^^^^^^^^^^\n",
      "  \u001b[31m   \u001b[0m AttributeError: module 'pkgutil' has no attribute 'ImpImporter'. Did you mean: 'zipimporter'?\n",
      "  \u001b[31m   \u001b[0m \u001b[31m[end of output]\u001b[0m\n",
      "  \n",
      "  \u001b[1;35mnote\u001b[0m: This error originates from a subprocess, and is likely not a problem with pip.\n",
      "\u001b[1;31merror\u001b[0m: \u001b[1msubprocess-exited-with-error\u001b[0m\n",
      "\n",
      "\u001b[31m×\u001b[0m \u001b[32mGetting requirements to build wheel\u001b[0m did not run successfully.\n",
      "\u001b[31m│\u001b[0m exit code: \u001b[1;36m1\u001b[0m\n",
      "\u001b[31m╰─>\u001b[0m See above for output.\n",
      "\n",
      "\u001b[1;35mnote\u001b[0m: This error originates from a subprocess, and is likely not a problem with pip.\n",
      "\u001b[?25h"
     ]
    }
   ],
   "source": [
    "!pip install numpy==1.24.4 scipy==1.10.1 pandas==1.5.3 statsmodels==0.13.5"
   ]
  },
  {
   "cell_type": "code",
   "execution_count": 7,
   "metadata": {
    "id": "89NS6vl3WTsh"
   },
   "outputs": [
    {
     "name": "stdout",
     "output_type": "stream",
     "text": [
      "Requirement already satisfied: pmdarima in /opt/anaconda3/lib/python3.12/site-packages (2.0.4)\n",
      "Requirement already satisfied: joblib>=0.11 in /opt/anaconda3/lib/python3.12/site-packages (from pmdarima) (1.4.2)\n",
      "Requirement already satisfied: Cython!=0.29.18,!=0.29.31,>=0.29 in /opt/anaconda3/lib/python3.12/site-packages (from pmdarima) (3.0.12)\n",
      "Collecting numpy>=1.21.2 (from pmdarima)\n",
      "  Using cached numpy-2.2.4-cp312-cp312-macosx_11_0_arm64.whl.metadata (62 kB)\n",
      "Collecting pandas>=0.19 (from pmdarima)\n",
      "  Using cached pandas-2.2.3-cp312-cp312-macosx_11_0_arm64.whl.metadata (89 kB)\n",
      "Requirement already satisfied: scikit-learn>=0.22 in /opt/anaconda3/lib/python3.12/site-packages (from pmdarima) (1.5.1)\n",
      "Collecting scipy>=1.3.2 (from pmdarima)\n",
      "  Using cached scipy-1.15.2-cp312-cp312-macosx_12_0_arm64.whl.metadata (61 kB)\n",
      "Collecting statsmodels>=0.13.2 (from pmdarima)\n",
      "  Using cached statsmodels-0.14.4-cp312-cp312-macosx_11_0_arm64.whl.metadata (9.2 kB)\n",
      "Requirement already satisfied: urllib3 in /opt/anaconda3/lib/python3.12/site-packages (from pmdarima) (2.2.3)\n",
      "Requirement already satisfied: setuptools!=50.0.0,>=38.6.0 in /opt/anaconda3/lib/python3.12/site-packages (from pmdarima) (75.1.0)\n",
      "Requirement already satisfied: packaging>=17.1 in /opt/anaconda3/lib/python3.12/site-packages (from pmdarima) (24.1)\n",
      "Requirement already satisfied: python-dateutil>=2.8.2 in /opt/anaconda3/lib/python3.12/site-packages (from pandas>=0.19->pmdarima) (2.9.0.post0)\n",
      "Requirement already satisfied: pytz>=2020.1 in /opt/anaconda3/lib/python3.12/site-packages (from pandas>=0.19->pmdarima) (2024.1)\n",
      "Requirement already satisfied: tzdata>=2022.7 in /opt/anaconda3/lib/python3.12/site-packages (from pandas>=0.19->pmdarima) (2023.3)\n",
      "Requirement already satisfied: threadpoolctl>=3.1.0 in /opt/anaconda3/lib/python3.12/site-packages (from scikit-learn>=0.22->pmdarima) (3.5.0)\n",
      "Requirement already satisfied: patsy>=0.5.6 in /opt/anaconda3/lib/python3.12/site-packages (from statsmodels>=0.13.2->pmdarima) (0.5.6)\n",
      "Requirement already satisfied: six in /opt/anaconda3/lib/python3.12/site-packages (from patsy>=0.5.6->statsmodels>=0.13.2->pmdarima) (1.16.0)\n",
      "Using cached numpy-2.2.4-cp312-cp312-macosx_11_0_arm64.whl (14.1 MB)\n",
      "Using cached pandas-2.2.3-cp312-cp312-macosx_11_0_arm64.whl (11.4 MB)\n",
      "Using cached scipy-1.15.2-cp312-cp312-macosx_12_0_arm64.whl (30.2 MB)\n",
      "Using cached statsmodels-0.14.4-cp312-cp312-macosx_11_0_arm64.whl (9.9 MB)\n",
      "Installing collected packages: numpy, scipy, pandas, statsmodels\n",
      "\u001b[31mERROR: pip's dependency resolver does not currently take into account all the packages that are installed. This behaviour is the source of the following dependency conflicts.\n",
      "gensim 4.3.3 requires numpy<2.0,>=1.18.5, but you have numpy 2.2.4 which is incompatible.\n",
      "gensim 4.3.3 requires scipy<1.14.0,>=1.7.0, but you have scipy 1.15.2 which is incompatible.\n",
      "contourpy 1.2.0 requires numpy<2.0,>=1.20, but you have numpy 2.2.4 which is incompatible.\n",
      "numba 0.60.0 requires numpy<2.1,>=1.22, but you have numpy 2.2.4 which is incompatible.\u001b[0m\u001b[31m\n",
      "\u001b[0mSuccessfully installed numpy-2.2.4 pandas-2.2.3 scipy-1.15.2 statsmodels-0.14.4\n"
     ]
    }
   ],
   "source": [
    "!pip install pmdarima"
   ]
  },
  {
   "cell_type": "code",
   "execution_count": 8,
   "metadata": {
    "id": "8L_vhW_SHPCJ"
   },
   "outputs": [
    {
     "ename": "ModuleNotFoundError",
     "evalue": "No module named 'pmdarima'",
     "output_type": "error",
     "traceback": [
      "\u001b[0;31m---------------------------------------------------------------------------\u001b[0m",
      "\u001b[0;31mModuleNotFoundError\u001b[0m                       Traceback (most recent call last)",
      "Cell \u001b[0;32mIn[8], line 8\u001b[0m\n\u001b[1;32m      6\u001b[0m \u001b[38;5;28;01mfrom\u001b[39;00m \u001b[38;5;21;01mstatsmodels\u001b[39;00m\u001b[38;5;21;01m.\u001b[39;00m\u001b[38;5;21;01mgraphics\u001b[39;00m\u001b[38;5;21;01m.\u001b[39;00m\u001b[38;5;21;01mtsaplots\u001b[39;00m \u001b[38;5;28;01mimport\u001b[39;00m plot_acf, plot_pacf\n\u001b[1;32m      7\u001b[0m \u001b[38;5;28;01mfrom\u001b[39;00m \u001b[38;5;21;01mstatsmodels\u001b[39;00m\u001b[38;5;21;01m.\u001b[39;00m\u001b[38;5;21;01mtsa\u001b[39;00m\u001b[38;5;21;01m.\u001b[39;00m\u001b[38;5;21;01mstattools\u001b[39;00m \u001b[38;5;28;01mimport\u001b[39;00m adfuller\n\u001b[0;32m----> 8\u001b[0m \u001b[38;5;28;01mimport\u001b[39;00m \u001b[38;5;21;01mpmdarima\u001b[39;00m \u001b[38;5;28;01mas\u001b[39;00m \u001b[38;5;21;01mpm\u001b[39;00m\n\u001b[1;32m      9\u001b[0m \u001b[38;5;28;01mimport\u001b[39;00m \u001b[38;5;21;01mwarnings\u001b[39;00m\n\u001b[1;32m     10\u001b[0m warnings\u001b[38;5;241m.\u001b[39mfilterwarnings(\u001b[38;5;124m\"\u001b[39m\u001b[38;5;124mignore\u001b[39m\u001b[38;5;124m\"\u001b[39m)\n",
      "\u001b[0;31mModuleNotFoundError\u001b[0m: No module named 'pmdarima'"
     ]
    }
   ],
   "source": [
    "# Importing Libraries\n",
    "import pandas as pd\n",
    "import numpy as np\n",
    "import matplotlib.pyplot as plt\n",
    "from statsmodels.tsa.arima.model import ARIMA\n",
    "from statsmodels.graphics.tsaplots import plot_acf, plot_pacf\n",
    "from statsmodels.tsa.stattools import adfuller\n",
    "import pmdarima as pm\n",
    "import warnings\n",
    "warnings.filterwarnings(\"ignore\")"
   ]
  },
  {
   "cell_type": "code",
   "execution_count": null,
   "metadata": {
    "id": "rPsjgB-o_DF4"
   },
   "outputs": [],
   "source": [
    "# Function to check stationarity using ADF Test\n",
    "def test_stationarity(timeseries, label='Time Series'):\n",
    "    result = adfuller(timeseries.dropna())\n",
    "    print(f\"ADF Test for {label}: p-value = {result[1]:.5f}\")\n",
    "    if result[1] < 0.05:\n",
    "        print(f\"{label} is Stationary.\\n\")\n",
    "    else:\n",
    "        print(f\" {label} is NOT Stationary.\\n\")\n",
    "    return result[1] < 0.05"
   ]
  },
  {
   "cell_type": "code",
   "execution_count": null,
   "metadata": {
    "id": "cJCqksxc_DDG"
   },
   "outputs": [],
   "source": [
    "#  Function to apply ARMA model on differenced data\n",
    "def fit_arma_model(ts, label='Dataset'):\n",
    "    ts_diff = ts.diff().dropna()\n",
    "\n",
    "    # Plot ACF and PACF to identify orders\n",
    "    plot_acf(ts_diff)\n",
    "    plt.title(f\"ACF Plot - {label}\")\n",
    "    plt.show()\n",
    "\n",
    "    plot_pacf(ts_diff)\n",
    "    plt.title(f\"PACF Plot - {label}\")\n",
    "    plt.show()\n",
    "\n",
    "    # Fit ARMA(p=2, q=2) model manually\n",
    "    arma_model = ARIMA(ts_diff, order=(2, 0, 2)).fit()\n",
    "    print(f\" ARMA(2,0,2) Summary for {label}:\\n\", arma_model.summary())\n",
    "\n",
    "    # Forecast differenced values and revert to original scale\n",
    "    future_diff = arma_model.forecast(steps=24)\n",
    "    forecast_vals = ts.iloc[-1] + np.cumsum(future_diff)\n",
    "    future_idx = pd.date_range(start=ts.index[-1], periods=25, freq='M')[1:]\n",
    "\n",
    "    plt.figure(figsize=(10, 5))\n",
    "    plt.plot(ts, label='Original')\n",
    "    plt.plot(future_idx, forecast_vals, label='ARMA Forecast', color='green')\n",
    "    plt.title(f\"{label} - ARMA Forecast (24 Months)\")\n",
    "    plt.legend()\n",
    "    plt.show()"
   ]
  },
  {
   "cell_type": "code",
   "execution_count": null,
   "metadata": {
    "id": "8PxSxLNz_C_-"
   },
   "outputs": [],
   "source": [
    "# Function to apply Auto ARIMA and forecast\n",
    "def run_auto_arima(ts, label='Series'):\n",
    "    arima_model = pm.auto_arima(ts, seasonal=False, trace=True,\n",
    "                                stepwise=True, suppress_warnings=True)\n",
    "    print(f\"Auto ARIMA selected order for {label}: {arima_model.order}\")\n",
    "\n",
    "    # Fit final ARIMA model\n",
    "    final_model = ARIMA(ts, order=arima_model.order).fit()\n",
    "    prediction = final_model.forecast(steps=24)\n",
    "    future_dates = pd.date_range(start=ts.index[-1], periods=25, freq='M')[1:]\n",
    "\n",
    "    # Plot forecast\n",
    "    plt.figure(figsize=(10, 5))\n",
    "    plt.plot(ts, label='Historical')\n",
    "    plt.plot(future_dates, prediction, label='Auto ARIMA Forecast', color='red')\n",
    "    plt.title(f\"{label} - Auto ARIMA Forecast (24 Months)\")\n",
    "    plt.legend()\n",
    "    plt.show()"
   ]
  },
  {
   "cell_type": "code",
   "execution_count": null,
   "metadata": {
    "id": "TKoPlhjf--AU"
   },
   "outputs": [],
   "source": [
    "# Load and Process jj.csv\n",
    "jj_data = pd.read_csv(\"jj.csv\")\n",
    "jj_data.columns = ['Quarter', 'Sales']\n",
    "jj_data['Quarter'] = pd.to_datetime(jj_data['Quarter'])\n",
    "jj_data.set_index('Quarter', inplace=True)\n",
    "jj_monthly = jj_data['Sales'].resample('M').ffill()"
   ]
  },
  {
   "cell_type": "code",
   "execution_count": null,
   "metadata": {
    "id": "KqYpbquV-z6k"
   },
   "outputs": [],
   "source": [
    "# Load and Process AMZN.csv\n",
    "amzn_data = pd.read_csv(\"AMZN.csv\")\n",
    "amzn_data['Date'] = pd.to_datetime(amzn_data['Date'])\n",
    "amzn_data.set_index('Date', inplace=True)\n",
    "amzn_monthly = amzn_data['Close'].resample('M').mean()"
   ]
  },
  {
   "cell_type": "markdown",
   "metadata": {
    "id": "FEYo1zb5CDWi"
   },
   "source": [
    "# Apply to JJ Dataset"
   ]
  },
  {
   "cell_type": "code",
   "execution_count": null,
   "metadata": {
    "colab": {
     "base_uri": "https://localhost:8080/"
    },
    "id": "UyIt38e7B6AU",
    "outputId": "c19c4a41-384e-429b-b1c8-d8889c16aec3"
   },
   "outputs": [],
   "source": [
    "test_stationarity(jj_monthly.diff(), 'JJ Monthly Differenced')"
   ]
  },
  {
   "cell_type": "code",
   "execution_count": null,
   "metadata": {
    "colab": {
     "base_uri": "https://localhost:8080/",
     "height": 1000
    },
    "id": "MNVvV61kB-HW",
    "outputId": "0af30f18-c3dc-44c6-cf93-ce61fc27dd79"
   },
   "outputs": [],
   "source": [
    "fit_arma_model(jj_monthly, label=\"Johnson & Johnson\")"
   ]
  },
  {
   "cell_type": "code",
   "execution_count": null,
   "metadata": {
    "colab": {
     "base_uri": "https://localhost:8080/",
     "height": 892
    },
    "id": "OhGt4Zm9-z3r",
    "outputId": "0d6c96f6-7792-44ae-c820-05557b18ca8d"
   },
   "outputs": [],
   "source": [
    "run_auto_arima(jj_monthly, label=\"Johnson & Johnson\")"
   ]
  },
  {
   "cell_type": "markdown",
   "metadata": {
    "id": "LYT0Jd-3CGoP"
   },
   "source": [
    "# Apply to AMZN Dataset"
   ]
  },
  {
   "cell_type": "code",
   "execution_count": 9,
   "metadata": {
    "colab": {
     "base_uri": "https://localhost:8080/"
    },
    "id": "A0eJmp4C_meJ",
    "outputId": "7c2aa9c4-c68e-42d9-c516-7968b8cbec08"
   },
   "outputs": [
    {
     "ename": "NameError",
     "evalue": "name 'test_stationarity' is not defined",
     "output_type": "error",
     "traceback": [
      "\u001b[0;31m---------------------------------------------------------------------------\u001b[0m",
      "\u001b[0;31mNameError\u001b[0m                                 Traceback (most recent call last)",
      "Cell \u001b[0;32mIn[9], line 1\u001b[0m\n\u001b[0;32m----> 1\u001b[0m test_stationarity(amzn_monthly\u001b[38;5;241m.\u001b[39mdiff(), \u001b[38;5;124m'\u001b[39m\u001b[38;5;124mAmazon Monthly Differenced\u001b[39m\u001b[38;5;124m'\u001b[39m)\n",
      "\u001b[0;31mNameError\u001b[0m: name 'test_stationarity' is not defined"
     ]
    }
   ],
   "source": [
    "test_stationarity(amzn_monthly.diff(), 'Amazon Monthly Differenced')"
   ]
  },
  {
   "cell_type": "code",
   "execution_count": 10,
   "metadata": {
    "colab": {
     "base_uri": "https://localhost:8080/",
     "height": 1000
    },
    "id": "MREVJeB4_ixI",
    "outputId": "1909924c-2bbe-406a-9e53-784d9f68fd5d"
   },
   "outputs": [
    {
     "ename": "NameError",
     "evalue": "name 'fit_arma_model' is not defined",
     "output_type": "error",
     "traceback": [
      "\u001b[0;31m---------------------------------------------------------------------------\u001b[0m",
      "\u001b[0;31mNameError\u001b[0m                                 Traceback (most recent call last)",
      "Cell \u001b[0;32mIn[10], line 1\u001b[0m\n\u001b[0;32m----> 1\u001b[0m fit_arma_model(amzn_monthly, label\u001b[38;5;241m=\u001b[39m\u001b[38;5;124m\"\u001b[39m\u001b[38;5;124mAmazon\u001b[39m\u001b[38;5;124m\"\u001b[39m)\n",
      "\u001b[0;31mNameError\u001b[0m: name 'fit_arma_model' is not defined"
     ]
    }
   ],
   "source": [
    "fit_arma_model(amzn_monthly, label=\"Amazon\")"
   ]
  },
  {
   "cell_type": "code",
   "execution_count": null,
   "metadata": {
    "colab": {
     "base_uri": "https://localhost:8080/",
     "height": 671
    },
    "id": "jBj8FYRm_ird",
    "outputId": "6423656e-0d96-4337-a04f-d66c0b074a78"
   },
   "outputs": [],
   "source": [
    "run_auto_arima(amzn_monthly, label=\"Amazon\")"
   ]
  },
  {
   "cell_type": "markdown",
   "metadata": {
    "id": "J-OdkuHJU7hs"
   },
   "source": [
    "# Neural Network Models"
   ]
  },
  {
   "cell_type": "code",
   "execution_count": null,
   "metadata": {
    "id": "L9ZUQQtYW3Gn"
   },
   "outputs": [],
   "source": [
    "!pip install --upgrade numpy scipy pandas statsmodels"
   ]
  },
  {
   "cell_type": "code",
   "execution_count": null,
   "metadata": {
    "id": "PzCbx4FnU6vI"
   },
   "outputs": [],
   "source": [
    "# Imports for Deep Learning\n",
    "import numpy as np\n",
    "import pandas as pd\n",
    "import matplotlib.pyplot as plt\n",
    "from sklearn.preprocessing import MinMaxScaler\n",
    "from keras.models import Sequential\n",
    "from keras.layers import LSTM, GRU, Dense\n",
    "from keras.optimizers import Adam\n",
    "from sklearn.metrics import mean_squared_error, mean_absolute_error\n",
    "from tensorflow.random import set_seed\n",
    "import warnings\n",
    "warnings.filterwarnings('ignore')"
   ]
  },
  {
   "cell_type": "code",
   "execution_count": null,
   "metadata": {
    "id": "UKf5RNfVVtJJ"
   },
   "outputs": [],
   "source": [
    "# Reproducibility\n",
    "np.random.seed(42)\n",
    "set_seed(42)"
   ]
  },
  {
   "cell_type": "code",
   "execution_count": null,
   "metadata": {
    "id": "-pEpyORAVtBX"
   },
   "outputs": [],
   "source": [
    "# Preprocessing Function\n",
    "def prepare_series(data, look_back=12):\n",
    "    X, y = [], []\n",
    "    for i in range(len(data) - look_back):\n",
    "        X.append(data[i:i+look_back])\n",
    "        y.append(data[i+look_back])\n",
    "    return np.array(X), np.array(y)"
   ]
  },
  {
   "cell_type": "code",
   "execution_count": null,
   "metadata": {
    "id": "YXA-TVLjVd0p"
   },
   "outputs": [],
   "source": [
    "# Model Training & Forecasting\n",
    "def build_and_forecast_nn(data, model_type='LSTM', label='Series', look_back=12):\n",
    "    scaler = MinMaxScaler()\n",
    "    scaled_data = scaler.fit_transform(data.values.reshape(-1, 1))\n",
    "\n",
    "    X, y = prepare_series(scaled_data, look_back)\n",
    "    X = X.reshape((X.shape[0], X.shape[1], 1))\n",
    "\n",
    "    # Define the model\n",
    "    model = Sequential()\n",
    "    if model_type == 'LSTM':\n",
    "        model.add(LSTM(64, activation='relu', input_shape=(look_back, 1)))\n",
    "    elif model_type == 'GRU':\n",
    "        model.add(GRU(64, activation='relu', input_shape=(look_back, 1)))\n",
    "    model.add(Dense(1))\n",
    "    model.compile(optimizer=Adam(learning_rate=0.001), loss='mse')\n",
    "\n",
    "    # Train model\n",
    "    model.fit(X, y, epochs=50, verbose=0)\n",
    "\n",
    "    # Forecasting the next 24 months\n",
    "    future_input = scaled_data[-look_back:].reshape(1, look_back, 1)\n",
    "    future_preds = []\n",
    "    for _ in range(24):\n",
    "        pred = model.predict(future_input)[0][0]\n",
    "        future_preds.append(pred)\n",
    "        future_input = np.append(future_input[:, 1:, :], [[[pred]]], axis=1)\n",
    "\n",
    "    # Rescale predictions\n",
    "    forecast_vals = scaler.inverse_transform(np.array(future_preds).reshape(-1, 1)).flatten()\n",
    "\n",
    "    # Plot forecast\n",
    "    forecast_index = pd.date_range(start=data.index[-1], periods=25, freq='M')[1:]\n",
    "    plt.figure(figsize=(10, 5))\n",
    "    plt.plot(data.index, data.values, label='Historical Data')\n",
    "    plt.plot(forecast_index, forecast_vals, label=f'{model_type} Forecast', color='purple' if model_type == 'LSTM' else 'orange')\n",
    "    plt.title(f'{label} - {model_type} Forecast (24 Months)')\n",
    "    plt.legend()\n",
    "    plt.show()\n",
    "\n",
    "    # Evaluation on train set\n",
    "    y_pred_train = model.predict(X)\n",
    "    y_true_train = y\n",
    "    print(f\" Evaluation Metrics for {label} using {model_type}:\")\n",
    "    print(f\"- MSE: {mean_squared_error(y_true_train, y_pred_train):.5f}\")\n",
    "    print(f\"- MAE: {mean_absolute_error(y_true_train, y_pred_train):.5f}\\n\")"
   ]
  },
  {
   "cell_type": "markdown",
   "metadata": {
    "id": "-_RU30OfViJu"
   },
   "source": [
    "## Run All Function"
   ]
  },
  {
   "cell_type": "code",
   "execution_count": null,
   "metadata": {
    "id": "5bvpDMiqVdxo"
   },
   "outputs": [],
   "source": [
    "# Load and Prepare jj.csv\n",
    "jj_df = pd.read_csv(\"jj.csv\")\n",
    "jj_df.columns = ['Quarter', 'Sales']\n",
    "jj_df['Quarter'] = pd.to_datetime(jj_df['Quarter'])\n",
    "jj_df.set_index('Quarter', inplace=True)\n",
    "jj_monthly = jj_df['Sales'].resample('M').ffill()"
   ]
  },
  {
   "cell_type": "code",
   "execution_count": null,
   "metadata": {
    "id": "1y28z0vEVdsA"
   },
   "outputs": [],
   "source": [
    "# Load and Prepare AMZN.csv\n",
    "amzn_df = pd.read_csv(\"AMZN.csv\")\n",
    "amzn_df['Date'] = pd.to_datetime(amzn_df['Date'])\n",
    "amzn_df.set_index('Date', inplace=True)\n",
    "amzn_monthly = amzn_df['Close'].resample('M').mean()"
   ]
  },
  {
   "cell_type": "markdown",
   "metadata": {
    "id": "rkIqLoh2VZ1i"
   },
   "source": [
    "## Run LSTM and GRU for JJ Data"
   ]
  },
  {
   "cell_type": "code",
   "execution_count": null,
   "metadata": {
    "colab": {
     "base_uri": "https://localhost:8080/",
     "height": 1000
    },
    "id": "jIJLIU-yVOyq",
    "outputId": "57125be1-02e8-4818-c0bf-5ce3db855db7"
   },
   "outputs": [],
   "source": [
    "print(\" Johnson & Johnson Sales - LSTM Model\")\n",
    "build_and_forecast_nn(jj_monthly, model_type='LSTM', label='Johnson & Johnson Sales')"
   ]
  },
  {
   "cell_type": "code",
   "execution_count": null,
   "metadata": {
    "colab": {
     "base_uri": "https://localhost:8080/",
     "height": 1000
    },
    "id": "y0cmghzBVOu1",
    "outputId": "8c4851c3-6baf-4216-d05d-a8e84246a913"
   },
   "outputs": [],
   "source": [
    "print(\" Johnson & Johnson Sales - GRU Model\")\n",
    "build_and_forecast_nn(jj_monthly, model_type='GRU', label='Johnson & Johnson Sales')"
   ]
  },
  {
   "cell_type": "markdown",
   "metadata": {
    "id": "b6F_2IUYVRMC"
   },
   "source": [
    "## Run LSTM and GRU for AMZN Data"
   ]
  },
  {
   "cell_type": "code",
   "execution_count": null,
   "metadata": {
    "colab": {
     "base_uri": "https://localhost:8080/",
     "height": 1000
    },
    "id": "iOSPoKXhVOsO",
    "outputId": "64e03e50-0645-4b4f-b8c6-53774d9f4298"
   },
   "outputs": [],
   "source": [
    "print(\" Amazon Stock Price - LSTM Model\")\n",
    "build_and_forecast_nn(amzn_monthly, model_type='LSTM', label='Amazon Stock Price')"
   ]
  },
  {
   "cell_type": "code",
   "execution_count": null,
   "metadata": {
    "colab": {
     "base_uri": "https://localhost:8080/",
     "height": 1000
    },
    "id": "bE-SLbZiVUjA",
    "outputId": "fcd6aa33-e984-47d1-b4b3-7a636cd35659"
   },
   "outputs": [],
   "source": [
    "print(\" Amazon Stock Price - GRU Model\")\n",
    "build_and_forecast_nn(amzn_monthly, model_type='GRU', label='Amazon Stock Price')"
   ]
  },
  {
   "cell_type": "code",
   "execution_count": null,
   "metadata": {},
   "outputs": [],
   "source": []
  },
  {
   "cell_type": "code",
   "execution_count": null,
   "metadata": {},
   "outputs": [],
   "source": []
  },
  {
   "cell_type": "code",
   "execution_count": null,
   "metadata": {},
   "outputs": [],
   "source": []
  },
  {
   "cell_type": "code",
   "execution_count": null,
   "metadata": {},
   "outputs": [],
   "source": []
  },
  {
   "cell_type": "code",
   "execution_count": null,
   "metadata": {},
   "outputs": [],
   "source": []
  }
 ],
 "metadata": {
  "colab": {
   "provenance": []
  },
  "kernelspec": {
   "display_name": "Python 3 (ipykernel)",
   "language": "python",
   "name": "python3"
  },
  "language_info": {
   "codemirror_mode": {
    "name": "ipython",
    "version": 3
   },
   "file_extension": ".py",
   "mimetype": "text/x-python",
   "name": "python",
   "nbconvert_exporter": "python",
   "pygments_lexer": "ipython3",
   "version": "3.11.5"
  }
 },
 "nbformat": 4,
 "nbformat_minor": 1
}
